{
 "cells": [
  {
   "cell_type": "code",
   "execution_count": 14,
   "metadata": {},
   "outputs": [],
   "source": [
    "import cv2\n",
    "import numpy as np\n",
    "import matplotlib.pyplot as plt\n",
    "import matplotlib.image as img"
   ]
  },
  {
   "cell_type": "code",
   "execution_count": 2,
   "metadata": {},
   "outputs": [],
   "source": [
    "def show(img,name):\n",
    "    cv2.imshow(name,img)\n",
    "    cv2.waitKey(0)\n",
    "    cv2.destroyAllWindows()"
   ]
  },
  {
   "cell_type": "code",
   "execution_count": 3,
   "metadata": {},
   "outputs": [],
   "source": [
    "''' Load images '''\n",
    "img1 = cv2.imread('image1.jpeg',0)\n",
    "img2 = cv2.imread('image2.jpg',0)\n",
    "img3 = cv2.imread('image3.jpg',0)\n",
    "img4 = cv2.imread('image4.jpg',0)\n",
    "img5 = cv2.imread('image5.jpg',0)\n",
    "img_color_1 = cv2.imread('image1.jpeg',1)\n",
    "img_color_2 = cv2.imread('image2.jpg',1)\n",
    "img_color_3 = cv2.imread('image3.jpg',1)\n",
    "img_color_4 = cv2.imread('image4.jpg',1)\n",
    "img_color_5 = cv2.imread('image5.jpg',1)"
   ]
  },
  {
   "cell_type": "code",
   "execution_count": 4,
   "metadata": {},
   "outputs": [],
   "source": [
    "''' Resize images '''\n",
    "img1 = cv2.resize(img1, (960,720)) \n",
    "img2 = cv2.resize(img2, (960,720)) \n",
    "img3 = cv2.resize(img3, (960,720)) \n",
    "img4 = cv2.resize(img4, (960,720)) \n",
    "img5 = cv2.resize(img5, (960,720)) \n",
    "img_color_1 = cv2.resize(img_color_1, (960,720)) \n",
    "img_color_2 = cv2.resize(img_color_2, (960,720)) \n",
    "img_color_3 = cv2.resize(img_color_3, (960,720)) \n",
    "img_color_4 = cv2.resize(img_color_4, (960,720)) \n",
    "img_color_5 = cv2.resize(img_color_5, (960,720)) "
   ]
  }
 ],
 "metadata": {
  "kernelspec": {
   "display_name": "Python 3",
   "language": "python",
   "name": "python3"
  },
  "language_info": {
   "codemirror_mode": {
    "name": "ipython",
    "version": 3
   },
   "file_extension": ".py",
   "mimetype": "text/x-python",
   "name": "python",
   "nbconvert_exporter": "python",
   "pygments_lexer": "ipython3",
   "version": "3.7.1"
  }
 },
 "nbformat": 4,
 "nbformat_minor": 2
}
